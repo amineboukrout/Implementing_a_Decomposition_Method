{
 "cells": [
  {
   "cell_type": "markdown",
   "metadata": {},
   "source": [
    "# Linear Regression: Using a Decomposition (Cholesky Method)\n",
    "--------------------------------\n",
    "\n",
    "This script will use TensorFlow's function, `tf.cholesky()` to decompose our design matrix and solve for the parameter matrix from linear regression.\n",
    "\n",
    "For linear regression we are given the system $A \\cdot x = y$.  Here, $A$ is our design matrix, $x$ is our parameter matrix (of interest), and $y$ is our target matrix (dependent values).\n",
    "\n",
    "For a Cholesky decomposition to work we assume that $A$ can be broken up into a product of a lower triangular matrix, $L$ and the transpose of the same matrix, $L^{T}$.\n",
    "\n",
    "Note that this is when $A$ is square.  Of course, with an over determined system, $A$ is not square.  So we factor the product $A^{T} \\cdot A$ instead.  We then assume:\n",
    "\n",
    "$$A^{T} \\cdot A = L^{T} \\cdot L$$\n",
    "\n",
    "For more information on the Cholesky decomposition and it's uses, see the following wikipedia link: [The Cholesky Decomposition](https://en.wikipedia.org/wiki/Cholesky_decomposition)\n",
    "\n",
    "Given that $A$ has a unique Cholesky decomposition, we can write our linear regression system as the following:\n",
    "\n",
    "$$ L^{T} \\cdot L \\cdot x = A^{T} \\cdot y $$\n",
    "\n",
    "Then we break apart the system as follows:\n",
    "\n",
    "$$L^{T} \\cdot z = A^{T} \\cdot y$$\n",
    "\n",
    "and\n",
    "\n",
    "$$L \\cdot x = z$$\n",
    "\n",
    "The steps we will take to solve for $x$ are the following\n",
    "\n",
    " 1. Compute the Cholesky decomposition of $A$, where $A^{T} \\cdot A = L^{T} \\cdot L$.\n",
    "\n",
    " 2. Solve ($L^{T} \\cdot z = A^{T} \\cdot y$) for $z$.\n",
    " \n",
    " 3. Finally, solve ($L \\cdot x = z$) for $x$.\n",
    " \n",
    "We start by loading the necessary libraries."
   ]
  },
  {
   "cell_type": "code",
   "execution_count": 2,
   "metadata": {},
   "outputs": [],
   "source": [
    "import matplotlib.pyplot as plt\n",
    "import numpy as np\n",
    "import tensorflow as tf\n",
    "from tensorflow.python.framework import ops\n",
    "ops.reset_default_graph()"
   ]
  },
  {
   "cell_type": "markdown",
   "metadata": {},
   "source": [
    "Next we create a graph session"
   ]
  },
  {
   "cell_type": "code",
   "execution_count": 3,
   "metadata": {},
   "outputs": [],
   "source": [
    "sess = tf.Session()"
   ]
  },
  {
   "cell_type": "markdown",
   "metadata": {},
   "source": [
    "We use the same method of generating data as in the prior recipe for consistency."
   ]
  },
  {
   "cell_type": "code",
   "execution_count": 4,
   "metadata": {},
   "outputs": [],
   "source": [
    "# Create the data\n",
    "x_vals = np.linspace(0, 10, 100)\n",
    "y_vals = x_vals + np.random.normal(0, 1, 100)"
   ]
  },
  {
   "cell_type": "markdown",
   "metadata": {},
   "source": [
    "We generate the design matrix, $A$."
   ]
  },
  {
   "cell_type": "code",
   "execution_count": 5,
   "metadata": {},
   "outputs": [],
   "source": [
    "# Create design matrix\n",
    "x_vals_column = np.transpose(np.matrix(x_vals))\n",
    "ones_column = np.transpose(np.matrix(np.repeat(1, 100)))\n",
    "A = np.column_stack((x_vals_column, ones_column))"
   ]
  },
  {
   "cell_type": "markdown",
   "metadata": {},
   "source": [
    "Next, we generate the "
   ]
  },
  {
   "cell_type": "code",
   "execution_count": 6,
   "metadata": {},
   "outputs": [],
   "source": [
    "# Create y matrix\n",
    "y = np.transpose(np.matrix(y_vals))\n",
    "\n",
    "# Create tensors\n",
    "A_tensor = tf.constant(A)\n",
    "y_tensor = tf.constant(y)"
   ]
  },
  {
   "cell_type": "markdown",
   "metadata": {},
   "source": [
    "Now we calculate the square of the matrix $A$ and the Cholesky decomposition."
   ]
  },
  {
   "cell_type": "code",
   "execution_count": 7,
   "metadata": {},
   "outputs": [],
   "source": [
    "# Find Cholesky Decomposition\n",
    "tA_A = tf.matmul(tf.transpose(A_tensor), A_tensor)\n",
    "L = tf.cholesky(tA_A)"
   ]
  },
  {
   "cell_type": "markdown",
   "metadata": {},
   "source": [
    "We solve the first equation. (see step 2 in the intro paragraph above)"
   ]
  },
  {
   "cell_type": "code",
   "execution_count": 8,
   "metadata": {},
   "outputs": [],
   "source": [
    "# Solve L*y=t(A)*b\n",
    "tA_y = tf.matmul(tf.transpose(A_tensor), y)\n",
    "sol1 = tf.matrix_solve(L, tA_y)"
   ]
  },
  {
   "cell_type": "markdown",
   "metadata": {},
   "source": [
    "We finally solve for the parameter matrix by solving the second equation (see step 3 in the intro paragraph)."
   ]
  },
  {
   "cell_type": "code",
   "execution_count": 9,
   "metadata": {},
   "outputs": [],
   "source": [
    "# Solve L' * y = sol1\n",
    "sol2 = tf.matrix_solve(tf.transpose(L), sol1)\n",
    "\n",
    "solution_eval = sess.run(sol2)"
   ]
  },
  {
   "cell_type": "markdown",
   "metadata": {},
   "source": [
    "Extract the coefficients and create the best fit line."
   ]
  },
  {
   "cell_type": "code",
   "execution_count": 10,
   "metadata": {},
   "outputs": [
    {
     "name": "stdout",
     "output_type": "stream",
     "text": [
      "slope: 1.04319102746\n",
      "y_intercept: -0.176744259004\n"
     ]
    }
   ],
   "source": [
    "# Extract coefficients\n",
    "slope = solution_eval[0][0]\n",
    "y_intercept = solution_eval[1][0]\n",
    "\n",
    "print('slope: ' + str(slope))\n",
    "print('y_intercept: ' + str(y_intercept))\n",
    "\n",
    "# Get best fit line\n",
    "best_fit = []\n",
    "for i in x_vals:\n",
    "  best_fit.append(slope*i+y_intercept)"
   ]
  },
  {
   "cell_type": "markdown",
   "metadata": {},
   "source": [
    "Finally, we plot the fit with Matplotlib."
   ]
  },
  {
   "cell_type": "code",
   "execution_count": 11,
   "metadata": {},
   "outputs": [
    {
     "data": {
      "image/png": "[encoded data removed]",
      "text/plain": [
       "<Figure size 432x288 with 1 Axes>"
      ]
     },
     "metadata": {},
     "output_type": "display_data"
    }
   ],
   "source": [
    "# Plot the results\n",
    "plt.plot(x_vals, y_vals, 'o', label='Data')\n",
    "plt.plot(x_vals, best_fit, 'r-', label='Best fit line', linewidth=3)\n",
    "plt.legend(loc='upper left')\n",
    "plt.show()"
   ]
  },
  {
   "cell_type": "code",
   "execution_count": 12,
   "metadata": {},
   "outputs": [],
   "source": [
    "import os\n",
    "merged = tf.summary.merge_all(key='summaries')\n",
    "if not os.path.exists('tensorboard_logs/'):\n",
    "    os.makedirs('tensorboard_logs/')\n",
    "\n",
    "my_writer = tf.summary.FileWriter('tensorboard_logs/', sess.graph)"
   ]
  }
 ],
 "metadata": {
  "kernelspec": {
   "display_name": "Python 2",
   "language": "python",
   "name": "python2"
  },
  "language_info": {
   "codemirror_mode": {
    "name": "ipython",
    "version": 2
   },
   "file_extension": ".py",
   "mimetype": "text/x-python",
   "name": "python",
   "nbconvert_exporter": "python",
   "pygments_lexer": "ipython2",
   "version": "2.7.12"
  }
 },
 "nbformat": 4,
 "nbformat_minor": 2
}
